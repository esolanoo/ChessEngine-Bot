{
 "cells": [
  {
   "cell_type": "code",
   "execution_count": 1,
   "id": "36d1b90b",
   "metadata": {},
   "outputs": [],
   "source": [
    "from classes import Game"
   ]
  },
  {
   "cell_type": "code",
   "execution_count": 2,
   "id": "ea08cdfb",
   "metadata": {},
   "outputs": [
    {
     "name": "stdout",
     "output_type": "stream",
     "text": [
      "rnbqkbnr/pppppppp/8/8/8/8/PPPPPPPP/RNBQKBNR b KQkq - 0 1\n",
      "\n",
      "8    r n b q k b n r\n",
      "7    p p p p p p p p\n",
      "6    . . . . . . . .\n",
      "5    . . . . . . . .\n",
      "4    . . . . . . . .\n",
      "3    . . . . . . . .\n",
      "2    P P P P P P P P\n",
      "1    R N B Q K B N R\n",
      "\n",
      "     a b c d e f g h\n",
      "\n"
     ]
    }
   ],
   "source": [
    "match = Game()\n",
    "match.show()\n",
    "match.possible_moves(match.turn)"
   ]
  },
  {
   "cell_type": "code",
   "execution_count": 3,
   "id": "dc74ea07",
   "metadata": {},
   "outputs": [
    {
     "data": {
      "text/plain": [
       "['Pa2a3',\n",
       " 'Pa2+a4',\n",
       " 'Pb2b3',\n",
       " 'Pb2+b4',\n",
       " 'Pc2c3',\n",
       " 'Pc2+c4',\n",
       " 'Pd2d3',\n",
       " 'Pd2+d4',\n",
       " 'Pe2e3',\n",
       " 'Pe2+e4',\n",
       " 'Pf2f3',\n",
       " 'Pf2+f4',\n",
       " 'Pg2g3',\n",
       " 'Pg2+g4',\n",
       " 'Ph2h3',\n",
       " 'Ph2+h4']"
      ]
     },
     "execution_count": 3,
     "metadata": {},
     "output_type": "execute_result"
    }
   ],
   "source": [
    "match.pos_moves"
   ]
  }
 ],
 "metadata": {
  "kernelspec": {
   "display_name": "Python 3",
   "language": "python",
   "name": "python3"
  },
  "language_info": {
   "codemirror_mode": {
    "name": "ipython",
    "version": 3
   },
   "file_extension": ".py",
   "mimetype": "text/x-python",
   "name": "python",
   "nbconvert_exporter": "python",
   "pygments_lexer": "ipython3",
   "version": "3.11.9"
  }
 },
 "nbformat": 4,
 "nbformat_minor": 5
}
