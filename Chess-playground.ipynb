{
 "cells": [
  {
   "cell_type": "code",
   "execution_count": 4,
   "id": "36d1b90b",
   "metadata": {},
   "outputs": [
    {
     "name": "stdout",
     "output_type": "stream",
     "text": [
      "rnbqkbnr/pppppppp/8/8/8/8/PPPPPPPP/RNBQKBNR w KQkq - 0 1\n",
      "\n",
      "8    r n b q k b n r\n",
      "7    p p p p p p p p\n",
      "6    . . . . . . . .\n",
      "5    . . . . . . . .\n",
      "4    . . . . . . . .\n",
      "3    . . . . . . . .\n",
      "2    P P P P P P P P\n",
      "1    R N B Q K B N R\n",
      "\n",
      "     a b c d e f g h\n",
      "\n"
     ]
    }
   ],
   "source": [
    "from classes import Game\n",
    "import time, random\n",
    "from IPython.display import clear_output\n",
    "\n",
    "g = Game()\n",
    "g.show()"
   ]
  },
  {
   "cell_type": "code",
   "execution_count": 5,
   "id": "ceeee8cc",
   "metadata": {},
   "outputs": [
    {
     "name": "stdout",
     "output_type": "stream",
     "text": [
      "1r2k1n1/7r/p2pp1pb/NPpb1pqp/PP1PPP2/7P/3RK1P1/1Q3BNR w - - 0 26\n",
      "\n",
      "8    . r . . k . n .\n",
      "7    . . . . . . . r\n",
      "6    p . . p p . p b\n",
      "5    N P p b . p q p\n",
      "4    P P . P P P . .\n",
      "3    . . . . . . . P\n",
      "2    . . . R K . P .\n",
      "1    . Q . . . B N R\n",
      "\n",
      "     a b c d e f g h\n",
      "\n"
     ]
    }
   ],
   "source": [
    "for i in range(50):\n",
    "    clear_output()\n",
    "    g.possible_moves(g.turn)\n",
    "    g.move(random.randint(0, len(g.pos_moves)-1))\n",
    "    g.show()\n",
    "    time.sleep(.1)\n"
   ]
  },
  {
   "cell_type": "code",
   "execution_count": 6,
   "id": "7ef701d1",
   "metadata": {},
   "outputs": [
    {
     "name": "stdout",
     "output_type": "stream",
     "text": [
      "Ph2h3 nb8c6 Rh1h2 pf7f5 Pb2b3 pb7b5 Nb1a3 nc6e5 Pf2f4 ne5d3 Pa2a4 ph7h6 Rh2h1 ph6h5 Pd2d4 nd3xc1 Na3c4 ra8b8 Pe2e3 rb8a8 Pb3b4 pc7c6 Ke1e2 ra8b8 Ke2f3 bc8b7 Pe3e4 rh8h6 Ra1a2 pg7g6 Kf3e3 pa7a6 Pc2c3 pe7e6 Nc4a5 pd7d6 Pc3c4 rh6h8 Qd1xc1 bf8g7 Ke3e2 qd8g5 Pc4xb5 pc6c5 Qc1e1 bb7d5 Qe1b1 bg7h6 Ra2d2 rh8h7\n"
     ]
    }
   ],
   "source": [
    "g.history()"
   ]
  }
 ],
 "metadata": {
  "kernelspec": {
   "display_name": "Python 3",
   "language": "python",
   "name": "python3"
  },
  "language_info": {
   "codemirror_mode": {
    "name": "ipython",
    "version": 3
   },
   "file_extension": ".py",
   "mimetype": "text/x-python",
   "name": "python",
   "nbconvert_exporter": "python",
   "pygments_lexer": "ipython3",
   "version": "3.11.9"
  }
 },
 "nbformat": 4,
 "nbformat_minor": 5
}
