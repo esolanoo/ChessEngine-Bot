{
 "cells": [
  {
   "cell_type": "code",
   "execution_count": 1,
   "id": "36d1b90b",
   "metadata": {},
   "outputs": [
    {
     "name": "stdout",
     "output_type": "stream",
     "text": [
      "rnbqkbnr/pppppppp/8/8/8/8/PPPPPPPP/RNBQKBNR w KQkq - 0 1\n",
      "\n",
      "8    r n b q k b n r\n",
      "7    p p p p p p p p\n",
      "6    . . . . . . . .\n",
      "5    . . . . . . . .\n",
      "4    . . . . . . . .\n",
      "3    . . . . . . . .\n",
      "2    P P P P P P P P\n",
      "1    R N B Q K B N R\n",
      "\n",
      "     a b c d e f g h\n",
      "\n"
     ]
    }
   ],
   "source": [
    "from classes import Game\n",
    "import time, random\n",
    "from IPython.display import clear_output\n",
    "\n",
    "g = Game()\n",
    "g.show()"
   ]
  },
  {
   "cell_type": "code",
   "execution_count": 2,
   "id": "3ea6bc07",
   "metadata": {},
   "outputs": [
    {
     "data": {
      "text/plain": [
       "['Pa2a4',\n",
       " 'Pa2a3',\n",
       " 'Pb2b4',\n",
       " 'Pb2b3',\n",
       " 'Pc2c4',\n",
       " 'Pc2c3',\n",
       " 'Pd2d3',\n",
       " 'Pd2d4',\n",
       " 'Pe2e4',\n",
       " 'Pe2e3',\n",
       " 'Pf2f4',\n",
       " 'Pf2f3',\n",
       " 'Pg2g4',\n",
       " 'Pg2g3',\n",
       " 'Ph2h4',\n",
       " 'Ph2h3',\n",
       " 'Nb1a3',\n",
       " 'Nb1c3',\n",
       " 'Ng1f3',\n",
       " 'Ng1h3']"
      ]
     },
     "execution_count": 2,
     "metadata": {},
     "output_type": "execute_result"
    }
   ],
   "source": [
    "g.possible_moves(g.turn)\n",
    "g.pos_moves"
   ]
  },
  {
   "cell_type": "code",
   "execution_count": 5,
   "id": "ceeee8cc",
   "metadata": {},
   "outputs": [
    {
     "name": "stdout",
     "output_type": "stream",
     "text": [
      "1r2k1n1/7r/p2pp1pb/NPpb1pqp/PP1PPP2/7P/3RK1P1/1Q3BNR w - - 0 26\n",
      "\n",
      "8    . r . . k . n .\n",
      "7    . . . . . . . r\n",
      "6    p . . p p . p b\n",
      "5    N P p b . p q p\n",
      "4    P P . P P P . .\n",
      "3    . . . . . . . P\n",
      "2    . . . R K . P .\n",
      "1    . Q . . . B N R\n",
      "\n",
      "     a b c d e f g h\n",
      "\n"
     ]
    }
   ],
   "source": [
    "for i in range(50):\n",
    "    clear_output()\n",
    "    g.possible_moves(g.turn)\n",
    "    g.move(random.randint(0, len(g.pos_moves)-1))\n",
    "    g.show()\n",
    "    time.sleep(.1)\n"
   ]
  }
 ],
 "metadata": {
  "kernelspec": {
   "display_name": "Python 3",
   "language": "python",
   "name": "python3"
  },
  "language_info": {
   "codemirror_mode": {
    "name": "ipython",
    "version": 3
   },
   "file_extension": ".py",
   "mimetype": "text/x-python",
   "name": "python",
   "nbconvert_exporter": "python",
   "pygments_lexer": "ipython3",
   "version": "3.11.9"
  }
 },
 "nbformat": 4,
 "nbformat_minor": 5
}
