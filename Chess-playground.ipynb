{
 "cells": [
  {
   "cell_type": "code",
   "execution_count": 1,
   "id": "36d1b90b",
   "metadata": {},
   "outputs": [
    {
     "name": "stdout",
     "output_type": "stream",
     "text": [
      "rnbqkbnr/pppppppp/8/8/8/8/PPPPPPPP/RNBQKBNR w KQkq - 0 1\n",
      "\n",
      "8    r n b q k b n r\n",
      "7    p p p p p p p p\n",
      "6    . . . . . . . .\n",
      "5    . . . . . . . .\n",
      "4    . . . . . . . .\n",
      "3    . . . . . . . .\n",
      "2    P P P P P P P P\n",
      "1    R N B Q K B N R\n",
      "\n",
      "     a b c d e f g h\n",
      "\n"
     ]
    }
   ],
   "source": [
    "from classes import Game\n",
    "import time, random\n",
    "from IPython.display import clear_output\n",
    "\n",
    "g = Game()\n",
    "g.show()"
   ]
  },
  {
   "cell_type": "code",
   "execution_count": 3,
   "id": "97c54a1e",
   "metadata": {},
   "outputs": [
    {
     "data": {
      "text/plain": [
       "['pf7f6',\n",
       " 'pf7f5',\n",
       " 'pg7g6',\n",
       " 'pg7g5',\n",
       " 'ph7h5',\n",
       " 'pb6b5',\n",
       " 'nc6b8',\n",
       " 'nc6e5',\n",
       " 'nc6d4',\n",
       " 'nc6e7',\n",
       " 'nc6a5',\n",
       " 'nc6a7',\n",
       " 'nc6b4',\n",
       " 'pd6d5',\n",
       " 'pe6e5',\n",
       " 'nh6g4',\n",
       " 'nh6f5',\n",
       " 'nh6g8']"
      ]
     },
     "execution_count": 3,
     "metadata": {},
     "output_type": "execute_result"
    }
   ],
   "source": [
    "g.possible_moves(g.turn)\n",
    "g.pos_moves"
   ]
  },
  {
   "cell_type": "code",
   "execution_count": 14,
   "id": "45f786f4",
   "metadata": {},
   "outputs": [
    {
     "name": "stdout",
     "output_type": "stream",
     "text": [
      "r1bqkb1r/5ppp/Ppnpp2n/8/8/2P1P3/3P1PPP/RNBQKBNR b KQkq - 0 8\n",
      "\n",
      "8    r . b q k b . r\n",
      "7    . . . . . p p p\n",
      "6    P p n p p . . n\n",
      "5    . . . . . . . .\n",
      "4    . . . . . . . .\n",
      "3    . . P . P . . .\n",
      "2    . . . P . P P P\n",
      "1    R N B Q K B N R\n",
      "\n",
      "     a b c d e f g h\n",
      "\n"
     ]
    }
   ],
   "source": [
    "g.move(random.randint(0, len(g.pos_moves)-1))\n",
    "g.show()"
   ]
  },
  {
   "cell_type": "code",
   "execution_count": 5,
   "id": "806b2267",
   "metadata": {},
   "outputs": [
    {
     "data": {
      "text/plain": [
       "{'column': 1,\n",
       " 'row': 1,\n",
       " 'id': 'b7',\n",
       " 'empty': True,\n",
       " 'first_move': True,\n",
       " 'val': 0,\n",
       " 'color': '',\n",
       " 'c': 'p'}"
      ]
     },
     "execution_count": 5,
     "metadata": {},
     "output_type": "execute_result"
    }
   ],
   "source": [
    "g.find_piece('b7').__dict__"
   ]
  },
  {
   "cell_type": "code",
   "execution_count": 2,
   "id": "ceeee8cc",
   "metadata": {},
   "outputs": [
    {
     "name": "stdout",
     "output_type": "stream",
     "text": [
      "r1bqkb1r/5ppp/Ppnpp2n/8/2P5/8/3PPPPP/RNBQKBNR b KQkq - 0 8\n",
      "\n",
      "8    r . b q k b . r\n",
      "7    . . . . . p p p\n",
      "6    P p n p p . . n\n",
      "5    . . . . . . . .\n",
      "4    . . P . . . . .\n",
      "3    . . . . . . . .\n",
      "2    . . . P P P P P\n",
      "1    R N B Q K B N R\n",
      "\n",
      "     a b c d e f g h\n",
      "\n"
     ]
    }
   ],
   "source": [
    "for i in range(15):\n",
    "    clear_output()\n",
    "    g.possible_moves(g.turn)\n",
    "    g.move(1)\n",
    "    g.show()\n",
    "    time.sleep(.5)\n"
   ]
  },
  {
   "cell_type": "code",
   "execution_count": 4,
   "id": "209003e4",
   "metadata": {},
   "outputs": [
    {
     "data": {
      "text/plain": [
       "{'column': 6,\n",
       " 'row': 6,\n",
       " 'id': 'g2',\n",
       " 'empty': False,\n",
       " 'first_move': True,\n",
       " 'val': 14,\n",
       " 'color': 'w',\n",
       " 'c': 'P'}"
      ]
     },
     "execution_count": 4,
     "metadata": {},
     "output_type": "execute_result"
    }
   ],
   "source": [
    "g.find_piece('g2').__dict__"
   ]
  },
  {
   "cell_type": "code",
   "execution_count": 5,
   "id": "e517ef13",
   "metadata": {},
   "outputs": [
    {
     "data": {
      "text/plain": [
       "['Pe7xd8',\n",
       " 'Pe5e6',\n",
       " 'Pg2g4',\n",
       " 'Pg2g3',\n",
       " 'Ph2h3',\n",
       " 'Nb1a3',\n",
       " 'Nb1xc3',\n",
       " 'Bc1xg5',\n",
       " 'Bc1b2',\n",
       " 'Bc1e3',\n",
       " 'Bc1f4',\n",
       " 'Bc1a3',\n",
       " 'Bc1d2',\n",
       " 'Ng1f3',\n",
       " 'Ng1h3']"
      ]
     },
     "execution_count": 5,
     "metadata": {},
     "output_type": "execute_result"
    }
   ],
   "source": [
    "g.possible_moves(g.turn)\n",
    "g.pos_moves"
   ]
  },
  {
   "cell_type": "code",
   "execution_count": 6,
   "id": "7ef701d1",
   "metadata": {},
   "outputs": [
    {
     "name": "stdout",
     "output_type": "stream",
     "text": [
      "Pa2a3 nb8c6 Pb2b4 ng8h6 Pa3a4 pa7a5 Pb4xa5 pb7b6 Pa5a6 bc8xa6 Pc2c4 pd7d6 Pc4c5 pe7e5 Pc5xb6 pc7c5 Pa4a5 pf7f6 Pd2d3 pg7g6 Pd3d4 bf8e7 Pd4xe5 ph7h5 Pe5xf6 be7f8 Pf6f7 bf8e7 Pf7f8 be7h4 Pe2e4 ba6xf1 Pa5a6 nc6e5 Pb6b7 pg6g5 Pb7xa8 nh6g4 Pf2f4 pc5c4 Pf4xe5 pd6d5 Pe5e6 pd5d4 Pe6e7 pd4d3 Pa6a7 ng4f2 Pe4e5 pc4c3\n"
     ]
    }
   ],
   "source": [
    "g.history()"
   ]
  }
 ],
 "metadata": {
  "kernelspec": {
   "display_name": "Python 3",
   "language": "python",
   "name": "python3"
  },
  "language_info": {
   "codemirror_mode": {
    "name": "ipython",
    "version": 3
   },
   "file_extension": ".py",
   "mimetype": "text/x-python",
   "name": "python",
   "nbconvert_exporter": "python",
   "pygments_lexer": "ipython3",
   "version": "3.11.9"
  }
 },
 "nbformat": 4,
 "nbformat_minor": 5
}
